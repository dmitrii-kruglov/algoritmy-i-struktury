{
  "metadata": {
    "language_info": {
      "codemirror_mode": {
        "name": "python",
        "version": 3
      },
      "file_extension": ".py",
      "mimetype": "text/x-python",
      "name": "python",
      "nbconvert_exporter": "python",
      "pygments_lexer": "ipython3",
      "version": "3.8"
    },
    "kernelspec": {
      "name": "python",
      "display_name": "Python (Pyodide)",
      "language": "python"
    }
  },
  "nbformat_minor": 4,
  "nbformat": 4,
  "cells": [
    {
      "cell_type": "markdown",
      "source": "__Теория:__\n- операции над числами\n- целочисленное деление\n- остаток от деления\n- модуль\n- условный оператор(в тч в одну строку)\n- цикл по числам(от 0 до произвольного)\n- range(start, stop, step)",
      "metadata": {}
    },
    {
      "cell_type": "markdown",
      "source": "Стандартные операции(сложение, вычитание, деление и умножение) присутсвуют, также скобками можно указать приоритетноть операций:",
      "metadata": {}
    },
    {
      "cell_type": "code",
      "source": "print(2 / 4 + (3 - 6) * 2)",
      "metadata": {
        "trusted": true
      },
      "execution_count": 52,
      "outputs": [
        {
          "name": "stdout",
          "text": "-5.5\n",
          "output_type": "stream"
        }
      ]
    },
    {
      "cell_type": "markdown",
      "source": "Кроме стандартных есть еще 3:",
      "metadata": {}
    },
    {
      "cell_type": "code",
      "source": "# Возведение в степень\nprint(2 ** 8)",
      "metadata": {
        "trusted": true
      },
      "execution_count": 53,
      "outputs": [
        {
          "name": "stdout",
          "text": "256\n",
          "output_type": "stream"
        }
      ]
    },
    {
      "cell_type": "code",
      "source": "# Целочисленное деление\nprint(7 // 3)",
      "metadata": {
        "trusted": true
      },
      "execution_count": 54,
      "outputs": [
        {
          "name": "stdout",
          "text": "2\n",
          "output_type": "stream"
        }
      ]
    },
    {
      "cell_type": "code",
      "source": "# Остаток от деления\nprint(7 % 3)",
      "metadata": {
        "trusted": true
      },
      "execution_count": 55,
      "outputs": [
        {
          "name": "stdout",
          "text": "1\n",
          "output_type": "stream"
        }
      ]
    },
    {
      "cell_type": "markdown",
      "source": "Для каждой из описанных 7 операций есть операция, которая позволяет присвоить результат первому операнду:",
      "metadata": {}
    },
    {
      "cell_type": "code",
      "source": "n = 6\nn += 4 # n = n + 4\nprint(n)",
      "metadata": {
        "trusted": true
      },
      "execution_count": 56,
      "outputs": [
        {
          "name": "stdout",
          "text": "10\n",
          "output_type": "stream"
        }
      ]
    },
    {
      "cell_type": "markdown",
      "source": "При операциях с числами типа float(с частью после точки) надо учитывать, что результат операций с ними может быть не совсем точным.\nПодобно о проблеме можно почитать в https://docs.python.org/3/tutorial/floatingpoint.html#tut-fp-issues",
      "metadata": {}
    },
    {
      "cell_type": "code",
      "source": "print(2.0001 + 0.1)",
      "metadata": {
        "trusted": true
      },
      "execution_count": 57,
      "outputs": [
        {
          "name": "stdout",
          "text": "2.1001000000000003\n",
          "output_type": "stream"
        }
      ]
    },
    {
      "cell_type": "markdown",
      "source": "В случае выше рекомендуют использовать функцию для округления результата - round(). Если в функцию передается одно число, то оно округляется до целой части. Второй параметр указывает, сколько знаков после запятой должен содержать результат.",
      "metadata": {}
    },
    {
      "cell_type": "code",
      "source": "print(round(2.0001 + 0.1))\nprint(round(2.0001 + 0.1, 4))",
      "metadata": {
        "trusted": true
      },
      "execution_count": 58,
      "outputs": [
        {
          "name": "stdout",
          "text": "2\n2.1001\n",
          "output_type": "stream"
        }
      ]
    },
    {
      "cell_type": "markdown",
      "source": "__Условия__\n\nМожно выполнять какие-то действия в зависимости от условия:",
      "metadata": {}
    },
    {
      "cell_type": "code",
      "source": "if (4 == 5): # условие\n    print(\"4 == 5\") # выполняется если условие истинно\nif (5 == 5): # условие\n    print(\"5 == 5\") # выполняется если условие истинно\n    print(\"тоже выполняется если условие истинно\")\nprint(\"на это действие условие не распространяется\")",
      "metadata": {
        "trusted": true
      },
      "execution_count": 59,
      "outputs": [
        {
          "name": "stdout",
          "text": "5 == 5\nтоже выполняется если условие истинно\nна это действие условие не распространяется\n",
          "output_type": "stream"
        }
      ]
    },
    {
      "cell_type": "markdown",
      "source": "Можно прописать альтернативное действие в случае невыполнения условия:",
      "metadata": {}
    },
    {
      "cell_type": "code",
      "source": "if (4 == 5): # условие\n    print(\"4 == 5\") # выполняется если условие истинно\n    print(\"тоже выполняется если условие истинно\")\nelse:\n    print(\"4 != 5\") # выполняется если условие ложно\n    print(\"выполняется если условие ложно\")\nprint(\"на это действие условие не распространяется\")",
      "metadata": {
        "trusted": true
      },
      "execution_count": 60,
      "outputs": [
        {
          "name": "stdout",
          "text": "4 != 5\nвыполняется если условие ложно\nна это действие условие не распространяется\n",
          "output_type": "stream"
        }
      ]
    },
    {
      "cell_type": "markdown",
      "source": "Также условный оператор можно писать в одну строчку, если условие и действия небольшие:",
      "metadata": {}
    },
    {
      "cell_type": "code",
      "source": "print(\"4 == 5\" if 4 ==5 else \"4 != 5\")",
      "metadata": {
        "trusted": true
      },
      "execution_count": 61,
      "outputs": [
        {
          "name": "stdout",
          "text": "4 != 5\n",
          "output_type": "stream"
        }
      ]
    },
    {
      "cell_type": "markdown",
      "source": "Логические операторы:",
      "metadata": {}
    },
    {
      "cell_type": "code",
      "source": "print(True or False)\nprint(True and False)\nprint(not True)",
      "metadata": {
        "trusted": true
      },
      "execution_count": 62,
      "outputs": [
        {
          "name": "stdout",
          "text": "True\nFalse\nFalse\n",
          "output_type": "stream"
        }
      ]
    },
    {
      "cell_type": "markdown",
      "source": "__Циклы__\n\nфункция range - генерит набор чисел от 0 до указанного\nоперация for позволяет поместить в переменную n по-очереди каждый элемент этого набора:",
      "metadata": {}
    },
    {
      "cell_type": "code",
      "source": "for n in range(5):\n    print(n)",
      "metadata": {
        "trusted": true
      },
      "execution_count": 63,
      "outputs": [
        {
          "name": "stdout",
          "text": "0\n1\n2\n3\n4\n",
          "output_type": "stream"
        }
      ]
    },
    {
      "cell_type": "markdown",
      "source": "Если два числа, то указывается начало генерации и конец:",
      "metadata": {}
    },
    {
      "cell_type": "code",
      "source": "for n in range(1, 5):\n    print(n)",
      "metadata": {
        "trusted": true
      },
      "execution_count": 64,
      "outputs": [
        {
          "name": "stdout",
          "text": "1\n2\n3\n4\n",
          "output_type": "stream"
        }
      ]
    },
    {
      "cell_type": "markdown",
      "source": "Если три числа - начало, конец и шаг:",
      "metadata": {}
    },
    {
      "cell_type": "code",
      "source": "for n in range(1, 5, 2):\n    print(n)",
      "metadata": {
        "trusted": true
      },
      "execution_count": 65,
      "outputs": [
        {
          "name": "stdout",
          "text": "1\n3\n",
          "output_type": "stream"
        }
      ]
    }
  ]
}