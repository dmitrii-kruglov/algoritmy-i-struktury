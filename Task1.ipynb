{
  "metadata": {
    "language_info": {
      "codemirror_mode": {
        "name": "python",
        "version": 3
      },
      "file_extension": ".py",
      "mimetype": "text/x-python",
      "name": "python",
      "nbconvert_exporter": "python",
      "pygments_lexer": "ipython3",
      "version": "3.8"
    },
    "kernelspec": {
      "name": "python",
      "display_name": "Python (Pyodide)",
      "language": "python"
    }
  },
  "nbformat_minor": 4,
  "nbformat": 4,
  "cells": [
    {
      "cell_type": "code",
      "source": "test_str = await input(\"Введите строку:\")",
      "metadata": {
        "trusted": true
      },
      "execution_count": 1,
      "outputs": [
        {
          "output_type": "stream",
          "name": "stdin",
          "text": "Введите строку: Hello \"world\"!\n"
        }
      ]
    },
    {
      "cell_type": "markdown",
      "source": "Задана строка. Необходимо посчитать количество символов",
      "metadata": {}
    },
    {
      "cell_type": "code",
      "source": "print(len(test_str))",
      "metadata": {
        "trusted": true
      },
      "execution_count": 2,
      "outputs": [
        {
          "name": "stdout",
          "text": "14\n",
          "output_type": "stream"
        }
      ]
    },
    {
      "cell_type": "markdown",
      "source": "Измените порядок символов в строке на обратный.",
      "metadata": {}
    },
    {
      "cell_type": "code",
      "source": "print(test_str[::-1])",
      "metadata": {
        "trusted": true
      },
      "execution_count": 3,
      "outputs": [
        {
          "name": "stdout",
          "text": "!\"dlrow\" olleH\n",
          "output_type": "stream"
        }
      ]
    },
    {
      "cell_type": "markdown",
      "source": "Найдите подстроку, заключенную в двойных кавычках в строке.",
      "metadata": {}
    },
    {
      "cell_type": "code",
      "source": "print(test_str[test_str.find('\"')+1:test_str.rfind(\"\\\"\")])",
      "metadata": {
        "trusted": true
      },
      "execution_count": 4,
      "outputs": [
        {
          "name": "stdout",
          "text": "world\n",
          "output_type": "stream"
        }
      ]
    },
    {
      "cell_type": "markdown",
      "source": "В строке записаны два числа, разделенные пробелом. Поменяйте их местами и напечатайте результат.",
      "metadata": {}
    },
    {
      "cell_type": "code",
      "source": "two_digits = await input(\"Введите два числа через пробел:\")",
      "metadata": {
        "trusted": true
      },
      "execution_count": 5,
      "outputs": [
        {
          "output_type": "stream",
          "name": "stdin",
          "text": "Введите два числа через пробел: 23 456\n"
        }
      ]
    },
    {
      "cell_type": "code",
      "source": "#Вариант 1\nfirst = two_digits[:two_digits.index(' ')]\nsecond = two_digits[two_digits.index(' ')+1:]\nprint(second + ' ' + first)",
      "metadata": {
        "trusted": true
      },
      "execution_count": 6,
      "outputs": [
        {
          "name": "stdout",
          "text": "456 23\n",
          "output_type": "stream"
        }
      ]
    },
    {
      "cell_type": "code",
      "source": "#Вариант 2\nprint(' '.join(two_digits.split()[::-1]))",
      "metadata": {
        "trusted": true
      },
      "execution_count": 7,
      "outputs": [
        {
          "name": "stdout",
          "text": "456 23\n",
          "output_type": "stream"
        }
      ]
    },
    {
      "cell_type": "markdown",
      "source": "Из почтового адреса нужно достать логин",
      "metadata": {}
    },
    {
      "cell_type": "code",
      "source": "email = await input(\"Введите email:\")",
      "metadata": {
        "trusted": true
      },
      "execution_count": 8,
      "outputs": [
        {
          "output_type": "stream",
          "name": "stdin",
          "text": "Введите email: ivan@lenta.ru\n"
        }
      ]
    },
    {
      "cell_type": "code",
      "source": "print(email[:email.find('@')])",
      "metadata": {
        "trusted": true
      },
      "execution_count": 9,
      "outputs": [
        {
          "name": "stdout",
          "text": "ivan\n",
          "output_type": "stream"
        }
      ]
    },
    {
      "cell_type": "markdown",
      "source": "Человек вводит на сайте номер телефона, ему позволено для удобства использовать кроме плюса и цифр знаки ‘-’, ‘)’, ‘(’ и пробелы. Уберите их из ввода.",
      "metadata": {}
    },
    {
      "cell_type": "code",
      "source": "number = await input(\"Введите номер телефона:\")",
      "metadata": {
        "trusted": true
      },
      "execution_count": 10,
      "outputs": [
        {
          "output_type": "stream",
          "name": "stdin",
          "text": "Введите номер телефона: +7(495) 234-56-78\n"
        }
      ]
    },
    {
      "cell_type": "code",
      "source": "#Вариант 1\nprint(number.replace(' ', '').replace('-', '').replace(')', '').replace('(', ''))",
      "metadata": {
        "trusted": true
      },
      "execution_count": 11,
      "outputs": [
        {
          "name": "stdout",
          "text": "+74952345678\n",
          "output_type": "stream"
        }
      ]
    },
    {
      "cell_type": "code",
      "source": "#Вариант 2\nimport re\nprint(re.sub(\"[ |\\-|)|(]\",\"\",number))",
      "metadata": {
        "trusted": true
      },
      "execution_count": 12,
      "outputs": [
        {
          "name": "stdout",
          "text": "+74952345678\n",
          "output_type": "stream"
        }
      ]
    },
    {
      "cell_type": "markdown",
      "source": "Вводится строка. Разделитель слов – пробел. Вывести все слова (на отдельных строках).",
      "metadata": {}
    },
    {
      "cell_type": "code",
      "source": "print(test_str.replace(' ', '\\n'))",
      "metadata": {
        "trusted": true
      },
      "execution_count": 13,
      "outputs": [
        {
          "name": "stdout",
          "text": "Hello\n\"world\"!\n",
          "output_type": "stream"
        }
      ]
    },
    {
      "cell_type": "markdown",
      "source": "Вам дана строка, состоящая только из букв английского алфавита и пробелов. Напишите программу, которая определит, является ли строка палиндромом.",
      "metadata": {}
    },
    {
      "cell_type": "code",
      "source": "test_str = await input(\"Введите строку:\")",
      "metadata": {
        "trusted": true
      },
      "execution_count": 14,
      "outputs": [
        {
          "output_type": "stream",
          "name": "stdin",
          "text": "Введите строку: qwerty454ytrewq\n"
        }
      ]
    },
    {
      "cell_type": "code",
      "source": "print(test_str == test_str[::-1])",
      "metadata": {
        "trusted": true
      },
      "execution_count": 15,
      "outputs": [
        {
          "name": "stdout",
          "text": "True\n",
          "output_type": "stream"
        }
      ]
    }
  ]
}