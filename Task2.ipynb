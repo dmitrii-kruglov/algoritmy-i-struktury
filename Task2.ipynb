{
  "metadata": {
    "language_info": {
      "codemirror_mode": {
        "name": "python",
        "version": 3
      },
      "file_extension": ".py",
      "mimetype": "text/x-python",
      "name": "python",
      "nbconvert_exporter": "python",
      "pygments_lexer": "ipython3",
      "version": "3.8"
    },
    "kernelspec": {
      "name": "python",
      "display_name": "Python (Pyodide)",
      "language": "python"
    }
  },
  "nbformat_minor": 4,
  "nbformat": 4,
  "cells": [
    {
      "cell_type": "code",
      "source": "number = int(await input(\"Введите число:\"))",
      "metadata": {
        "trusted": true
      },
      "execution_count": 36,
      "outputs": [
        {
          "output_type": "stream",
          "name": "stdin",
          "text": "Введите число: 23\n"
        }
      ]
    },
    {
      "cell_type": "markdown",
      "source": "На вход подается строка, состоящая из одного числа. Напишите программу, которая удваивает его.",
      "metadata": {}
    },
    {
      "cell_type": "code",
      "source": "print(\"Удвоенное:\", number * 2)",
      "metadata": {
        "trusted": true
      },
      "execution_count": 37,
      "outputs": [
        {
          "name": "stdout",
          "text": "Удвоенное: 46\n",
          "output_type": "stream"
        }
      ]
    },
    {
      "cell_type": "markdown",
      "source": "Вводится число. Вывести его квадрат.",
      "metadata": {}
    },
    {
      "cell_type": "code",
      "source": "print(\"В квадрате:\", number ** 2)",
      "metadata": {
        "trusted": true
      },
      "execution_count": 38,
      "outputs": [
        {
          "name": "stdout",
          "text": "В квадрате: 529\n",
          "output_type": "stream"
        }
      ]
    },
    {
      "cell_type": "markdown",
      "source": "Вводятся часы, минуты и секунды. Вывести, сколько секунд прошло с полуночи.\nВывести, какая часть суток прошла (число от 0 до 1).",
      "metadata": {}
    },
    {
      "cell_type": "code",
      "source": "hours = int(await input(\"Введите часы:\"))",
      "metadata": {
        "trusted": true
      },
      "execution_count": 39,
      "outputs": [
        {
          "output_type": "stream",
          "name": "stdin",
          "text": "Введите часы: 19\n"
        }
      ]
    },
    {
      "cell_type": "code",
      "source": "minutes = int(await input(\"Введите минуты:\"))",
      "metadata": {
        "trusted": true
      },
      "execution_count": 40,
      "outputs": [
        {
          "output_type": "stream",
          "name": "stdin",
          "text": "Введите минуты: 54\n"
        }
      ]
    },
    {
      "cell_type": "code",
      "source": "seconds = int(await input(\"Введите секунды:\"))",
      "metadata": {
        "trusted": true
      },
      "execution_count": 41,
      "outputs": [
        {
          "output_type": "stream",
          "name": "stdin",
          "text": "Введите секунды: 12\n"
        }
      ]
    },
    {
      "cell_type": "code",
      "source": "total = hours * 60 ** 2 + minutes * 60 + seconds\nprint(\"Total :\", total)\nprint(\"Part of day:\", round(total / (24 * 60 ** 2), 4))",
      "metadata": {
        "trusted": true
      },
      "execution_count": 42,
      "outputs": [
        {
          "name": "stdout",
          "text": "Total : 71652\nPart of day: 0.8293\n",
          "output_type": "stream"
        }
      ]
    },
    {
      "cell_type": "markdown",
      "source": "Вводится число. Вывести, оканчивается ли оно на цифру 7, не используя приведение к строке и операции над строками",
      "metadata": {}
    },
    {
      "cell_type": "code",
      "source": "print(number % 10 == 7)",
      "metadata": {
        "trusted": true
      },
      "execution_count": 43,
      "outputs": [
        {
          "name": "stdout",
          "text": "False\n",
          "output_type": "stream"
        }
      ]
    },
    {
      "cell_type": "markdown",
      "source": "Вводятся коэффициенты уравнения ax2+bx+c=0. Вывести его корни(не забыть проверить, что a не равно 0) ",
      "metadata": {}
    },
    {
      "cell_type": "code",
      "source": "a = int(await input(\"Введите a:\"))",
      "metadata": {
        "trusted": true
      },
      "execution_count": 44,
      "outputs": [
        {
          "output_type": "stream",
          "name": "stdin",
          "text": "Введите a: -4\n"
        }
      ]
    },
    {
      "cell_type": "code",
      "source": "b = int(await input(\"Введите b:\"))",
      "metadata": {
        "trusted": true
      },
      "execution_count": 45,
      "outputs": [
        {
          "output_type": "stream",
          "name": "stdin",
          "text": "Введите b: 28\n"
        }
      ]
    },
    {
      "cell_type": "code",
      "source": "c = int(await input(\"Введите c:\"))",
      "metadata": {
        "trusted": true
      },
      "execution_count": 46,
      "outputs": [
        {
          "output_type": "stream",
          "name": "stdin",
          "text": "Введите c: -49\n"
        }
      ]
    },
    {
      "cell_type": "code",
      "source": "if a != 0:\n    d = b ** 2 - 4 * a * c\n    if d < 0:\n        print(\"Корней нет!\")\n    else:\n        print(\"Корень 1: \" , round((-b - d ** 0.5)/(2 * a), 4))\n        if d > 0:\n            print(\"Корень 2: \", round((-b + d ** 0.5)/(2 * a), 4))\nelse:\n    print(\"Корень: \", -c/b)",
      "metadata": {
        "trusted": true
      },
      "execution_count": 47,
      "outputs": [
        {
          "name": "stdout",
          "text": "Корень 1:  3.5\n",
          "output_type": "stream"
        }
      ]
    },
    {
      "cell_type": "code",
      "source": "import numpy as np\nprint(\"Корни уравнения: \", np.roots((a,b,c)))",
      "metadata": {
        "trusted": true
      },
      "execution_count": 48,
      "outputs": [
        {
          "name": "stdout",
          "text": "Корни уравнения:  [3.5 3.5]\n",
          "output_type": "stream"
        }
      ]
    },
    {
      "cell_type": "markdown",
      "source": "Вводятся три числа. Вывести максимум из них.",
      "metadata": {}
    },
    {
      "cell_type": "code",
      "source": "if a > b and a > c:\n    print(a)\nelif b > c and b > a:\n    print(b)\nelif c > a and c > b:\n    print(c)",
      "metadata": {
        "trusted": true
      },
      "execution_count": 49,
      "outputs": [
        {
          "name": "stdout",
          "text": "28\n",
          "output_type": "stream"
        }
      ]
    },
    {
      "cell_type": "code",
      "source": "n = a\nif b > n:\n    n = b\nif c > n:\n    n = c\nprint(n)",
      "metadata": {
        "trusted": true
      },
      "execution_count": 50,
      "outputs": [
        {
          "name": "stdout",
          "text": "28\n",
          "output_type": "stream"
        }
      ]
    },
    {
      "cell_type": "code",
      "source": "print(max(a,b,c))",
      "metadata": {
        "trusted": true
      },
      "execution_count": 51,
      "outputs": [
        {
          "name": "stdout",
          "text": "28\n",
          "output_type": "stream"
        }
      ]
    },
    {
      "cell_type": "markdown",
      "source": "Вводится число. Вывести среднее арифметическое (с точностью до двух знаков после запятой) тех чисел в диапазоне от единицы до введённого числа, которые делятся 5 или являются четными.",
      "metadata": {}
    },
    {
      "cell_type": "code",
      "source": "sum = 0\ncount = 0\nfor n in range(1, number + 1):\n    if n % 2 == 0 or n % 5 == 0:\n        sum += n\n        count += 1\nprint(round(sum/count, 2))",
      "metadata": {
        "trusted": true
      },
      "execution_count": 52,
      "outputs": [
        {
          "name": "stdout",
          "text": "11.69\n",
          "output_type": "stream"
        }
      ]
    }
  ]
}