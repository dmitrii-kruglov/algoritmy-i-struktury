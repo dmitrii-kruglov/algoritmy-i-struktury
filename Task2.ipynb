{
  "metadata": {
    "language_info": {
      "codemirror_mode": {
        "name": "python",
        "version": 3
      },
      "file_extension": ".py",
      "mimetype": "text/x-python",
      "name": "python",
      "nbconvert_exporter": "python",
      "pygments_lexer": "ipython3",
      "version": "3.8"
    },
    "kernelspec": {
      "name": "python",
      "display_name": "Python (Pyodide)",
      "language": "python"
    }
  },
  "nbformat_minor": 4,
  "nbformat": 4,
  "cells": [
    {
      "cell_type": "code",
      "source": "number = int(await input(\"Введите число:\"))",
      "metadata": {
        "trusted": true
      },
      "execution_count": 14,
      "outputs": [
        {
          "output_type": "stream",
          "name": "stdin",
          "text": "Введите число: 23\n"
        }
      ]
    },
    {
      "cell_type": "markdown",
      "source": "На вход подается строка, состоящая из одного числа. Напишите программу, которая удваивает его.",
      "metadata": {}
    },
    {
      "cell_type": "code",
      "source": "print(\"Удвоенное:\" + str(number * 2))",
      "metadata": {
        "trusted": true
      },
      "execution_count": 7,
      "outputs": [
        {
          "name": "stdout",
          "text": "Удвоенное:46\n",
          "output_type": "stream"
        }
      ]
    },
    {
      "cell_type": "markdown",
      "source": "Вводится число. Вывести его квадрат.",
      "metadata": {}
    },
    {
      "cell_type": "code",
      "source": "print(\"В квадрате:\" + str(number ** 2))",
      "metadata": {
        "trusted": true
      },
      "execution_count": 8,
      "outputs": [
        {
          "name": "stdout",
          "text": "В квадрате:529\n",
          "output_type": "stream"
        }
      ]
    },
    {
      "cell_type": "markdown",
      "source": "Вводятся часы, минуты и секунды. Вывести, сколько секунд прошло с полуночи.\nВывести, какая часть суток прошла (число от 0 до 1).",
      "metadata": {}
    },
    {
      "cell_type": "code",
      "source": "hours = 19\nminutes = 54\nseconds = 12",
      "metadata": {
        "trusted": true
      },
      "execution_count": 3,
      "outputs": []
    },
    {
      "cell_type": "code",
      "source": "total = hours * 60 ** 2 + minutes * 60 + seconds\nprint(\"Total :\" + str(total))\nprint(\"Part of day:\")\nprint(round(total / (24 * 60 ** 2), 4))",
      "metadata": {
        "trusted": true
      },
      "execution_count": 10,
      "outputs": [
        {
          "name": "stdout",
          "text": "Total :71652\nPart of day:\n0.8293\n",
          "output_type": "stream"
        }
      ]
    },
    {
      "cell_type": "markdown",
      "source": "Вводится число. Вывести, оканчивается ли оно на цифру 7, не используя приведение к строке и операции над строками",
      "metadata": {}
    },
    {
      "cell_type": "code",
      "source": "print(number % 10 == 7)",
      "metadata": {
        "trusted": true
      },
      "execution_count": 15,
      "outputs": [
        {
          "name": "stdout",
          "text": "False\n",
          "output_type": "stream"
        }
      ]
    },
    {
      "cell_type": "markdown",
      "source": "Вводятся коэффициенты уравнения ax2+bx+c=0. Вывести его корни(не забыть проверить, что a не равно 0) ",
      "metadata": {}
    },
    {
      "cell_type": "code",
      "source": "a = -4\nb = 28\nc = -49",
      "metadata": {
        "trusted": true
      },
      "execution_count": 31,
      "outputs": []
    },
    {
      "cell_type": "code",
      "source": "if a != 0:\n    d = b ** 2 - 4 * a * c\n    if d < 0:\n        print(\"Корней нет!\")\n    else:\n        print(\"Корень 1: \" + str((-b - d ** 0.5)/(2 * a)))\n        if d > 0:\n            print(\"Корень 2: \" + str((-b + d ** 0.5)/(2 * a)))\nelse:\n    print(\"Такое уравнение нельзя решить\")",
      "metadata": {
        "trusted": true
      },
      "execution_count": 36,
      "outputs": [
        {
          "name": "stdout",
          "text": "Корень 1: 3.5\n",
          "output_type": "stream"
        }
      ]
    },
    {
      "cell_type": "markdown",
      "source": "Вводятся три числа. Вывести максимум из них.",
      "metadata": {}
    },
    {
      "cell_type": "code",
      "source": "if a > b and a > c:\n    print(a)\nif b > c and b > a:\n    print(b)\nif c > a and c > b:\n    print(c)",
      "metadata": {
        "trusted": true
      },
      "execution_count": 37,
      "outputs": [
        {
          "name": "stdout",
          "text": "28\n",
          "output_type": "stream"
        }
      ]
    },
    {
      "cell_type": "markdown",
      "source": "Вводится число. Вывести наибольшее число Фибоначчи, меньшее введённого.",
      "metadata": {}
    },
    {
      "cell_type": "code",
      "source": "sum = 0\ncount = 0\nfor n in range(1, number):\n    if n % 2 == 0 or n % 5 == 0:\n        sum += n\n        count += 1\nprint(count)\nprint(sum)\nprint(sum/count)",
      "metadata": {
        "trusted": true
      },
      "execution_count": 43,
      "outputs": [
        {
          "name": "stdout",
          "text": "13\n152\n11.692307692307692\n",
          "output_type": "stream"
        }
      ]
    }
  ]
}